{
  "cells": [
    {
      "cell_type": "markdown",
      "id": "83d28622",
      "metadata": {
        "id": "83d28622"
      },
      "source": [
        "![Constantine Quantum Technologies for QFF22-Algiers](imgs/qff22_cqtech_banner.png)"
      ]
    },
    {
      "cell_type": "markdown",
      "id": "64502bc9",
      "metadata": {
        "id": "64502bc9"
      },
      "source": [
        "# QKD challenge - Qiskit Fall Fest 2022, Algiers"
      ]
    },
    {
      "cell_type": "markdown",
      "id": "2b30799d",
      "metadata": {
        "id": "2b30799d"
      },
      "source": [
        "### The BB84 Protocol (from Qiskit)"
      ]
    },
    {
      "cell_type": "markdown",
      "id": "f6f3e73b",
      "metadata": {
        "id": "f6f3e73b"
      },
      "source": [
        "To make things easy on you, here's the complete code for the BB84 protocol. You may copy and modify it for your solutions bellow."
      ]
    },
    {
      "cell_type": "code",
      "source": [
        "!pip install qiskit"
      ],
      "metadata": {
        "colab": {
          "base_uri": "https://localhost:8080/"
        },
        "id": "hfJefhnwFoUF",
        "outputId": "5fc27d83-9ae9-4161-b0fb-f67773dce0df"
      },
      "id": "hfJefhnwFoUF",
      "execution_count": 1,
      "outputs": [
        {
          "output_type": "stream",
          "name": "stdout",
          "text": [
            "Looking in indexes: https://pypi.org/simple, https://us-python.pkg.dev/colab-wheels/public/simple/\n",
            "Collecting qiskit\n",
            "  Downloading qiskit-0.39.0.tar.gz (13 kB)\n",
            "Collecting qiskit-terra==0.22.0\n",
            "  Downloading qiskit_terra-0.22.0-cp37-cp37m-manylinux_2_17_x86_64.manylinux2014_x86_64.whl (4.7 MB)\n",
            "\u001b[K     |████████████████████████████████| 4.7 MB 16.5 MB/s \n",
            "\u001b[?25hCollecting qiskit-aer==0.11.0\n",
            "  Downloading qiskit_aer-0.11.0-cp37-cp37m-manylinux_2_17_x86_64.manylinux2014_x86_64.whl (19.2 MB)\n",
            "\u001b[K     |████████████████████████████████| 19.2 MB 245 kB/s \n",
            "\u001b[?25hCollecting qiskit-ibmq-provider==0.19.2\n",
            "  Downloading qiskit_ibmq_provider-0.19.2-py3-none-any.whl (240 kB)\n",
            "\u001b[K     |████████████████████████████████| 240 kB 57.5 MB/s \n",
            "\u001b[?25hRequirement already satisfied: scipy>=1.0 in /usr/local/lib/python3.7/dist-packages (from qiskit-aer==0.11.0->qiskit) (1.7.3)\n",
            "Requirement already satisfied: numpy>=1.16.3 in /usr/local/lib/python3.7/dist-packages (from qiskit-aer==0.11.0->qiskit) (1.21.6)\n",
            "Collecting requests-ntlm>=1.1.0\n",
            "  Downloading requests_ntlm-1.1.0-py2.py3-none-any.whl (5.7 kB)\n",
            "Collecting websocket-client>=1.0.1\n",
            "  Downloading websocket_client-1.4.1-py3-none-any.whl (55 kB)\n",
            "\u001b[K     |████████████████████████████████| 55 kB 2.9 MB/s \n",
            "\u001b[?25hRequirement already satisfied: python-dateutil>=2.8.0 in /usr/local/lib/python3.7/dist-packages (from qiskit-ibmq-provider==0.19.2->qiskit) (2.8.2)\n",
            "Requirement already satisfied: urllib3>=1.21.1 in /usr/local/lib/python3.7/dist-packages (from qiskit-ibmq-provider==0.19.2->qiskit) (1.24.3)\n",
            "Collecting websockets>=10.0\n",
            "  Downloading websockets-10.3-cp37-cp37m-manylinux_2_5_x86_64.manylinux1_x86_64.manylinux_2_12_x86_64.manylinux2010_x86_64.whl (112 kB)\n",
            "\u001b[K     |████████████████████████████████| 112 kB 25.1 MB/s \n",
            "\u001b[?25hRequirement already satisfied: requests>=2.19 in /usr/local/lib/python3.7/dist-packages (from qiskit-ibmq-provider==0.19.2->qiskit) (2.23.0)\n",
            "Collecting stevedore>=3.0.0\n",
            "  Downloading stevedore-3.5.2-py3-none-any.whl (50 kB)\n",
            "\u001b[K     |████████████████████████████████| 50 kB 5.2 MB/s \n",
            "\u001b[?25hRequirement already satisfied: importlib-metadata<5.0 in /usr/local/lib/python3.7/dist-packages (from qiskit-terra==0.22.0->qiskit) (4.13.0)\n",
            "Collecting ply>=3.10\n",
            "  Downloading ply-3.11-py2.py3-none-any.whl (49 kB)\n",
            "\u001b[K     |████████████████████████████████| 49 kB 3.0 MB/s \n",
            "\u001b[?25hCollecting shared-memory38\n",
            "  Downloading shared_memory38-0.1.2-cp37-cp37m-manylinux_2_5_x86_64.manylinux1_x86_64.whl (25 kB)\n",
            "Requirement already satisfied: typing-extensions in /usr/local/lib/python3.7/dist-packages (from qiskit-terra==0.22.0->qiskit) (4.1.1)\n",
            "Requirement already satisfied: dill>=0.3 in /usr/local/lib/python3.7/dist-packages (from qiskit-terra==0.22.0->qiskit) (0.3.5.1)\n",
            "Requirement already satisfied: sympy>=1.3 in /usr/local/lib/python3.7/dist-packages (from qiskit-terra==0.22.0->qiskit) (1.7.1)\n",
            "Collecting retworkx>=0.11.0\n",
            "  Downloading retworkx-0.12.0-py3-none-any.whl (10 kB)\n",
            "Requirement already satisfied: psutil>=5 in /usr/local/lib/python3.7/dist-packages (from qiskit-terra==0.22.0->qiskit) (5.4.8)\n",
            "Collecting symengine>=0.9\n",
            "  Downloading symengine-0.9.2-cp37-cp37m-manylinux2010_x86_64.whl (37.5 MB)\n",
            "\u001b[K     |████████████████████████████████| 37.5 MB 47 kB/s \n",
            "\u001b[?25hCollecting tweedledum<2.0,>=1.1\n",
            "  Downloading tweedledum-1.1.1-cp37-cp37m-manylinux_2_12_x86_64.manylinux2010_x86_64.whl (943 kB)\n",
            "\u001b[K     |████████████████████████████████| 943 kB 55.4 MB/s \n",
            "\u001b[?25hRequirement already satisfied: zipp>=0.5 in /usr/local/lib/python3.7/dist-packages (from importlib-metadata<5.0->qiskit-terra==0.22.0->qiskit) (3.9.0)\n",
            "Requirement already satisfied: six>=1.5 in /usr/local/lib/python3.7/dist-packages (from python-dateutil>=2.8.0->qiskit-ibmq-provider==0.19.2->qiskit) (1.15.0)\n",
            "Requirement already satisfied: idna<3,>=2.5 in /usr/local/lib/python3.7/dist-packages (from requests>=2.19->qiskit-ibmq-provider==0.19.2->qiskit) (2.10)\n",
            "Requirement already satisfied: chardet<4,>=3.0.2 in /usr/local/lib/python3.7/dist-packages (from requests>=2.19->qiskit-ibmq-provider==0.19.2->qiskit) (3.0.4)\n",
            "Requirement already satisfied: certifi>=2017.4.17 in /usr/local/lib/python3.7/dist-packages (from requests>=2.19->qiskit-ibmq-provider==0.19.2->qiskit) (2022.9.24)\n",
            "Collecting ntlm-auth>=1.0.2\n",
            "  Downloading ntlm_auth-1.5.0-py2.py3-none-any.whl (29 kB)\n",
            "Collecting cryptography>=1.3\n",
            "  Downloading cryptography-38.0.1-cp36-abi3-manylinux_2_24_x86_64.whl (4.0 MB)\n",
            "\u001b[K     |████████████████████████████████| 4.0 MB 42.2 MB/s \n",
            "\u001b[?25hRequirement already satisfied: cffi>=1.12 in /usr/local/lib/python3.7/dist-packages (from cryptography>=1.3->requests-ntlm>=1.1.0->qiskit-ibmq-provider==0.19.2->qiskit) (1.15.1)\n",
            "Requirement already satisfied: pycparser in /usr/local/lib/python3.7/dist-packages (from cffi>=1.12->cryptography>=1.3->requests-ntlm>=1.1.0->qiskit-ibmq-provider==0.19.2->qiskit) (2.21)\n",
            "Collecting rustworkx==0.12.0\n",
            "  Downloading rustworkx-0.12.0-cp37-cp37m-manylinux_2_17_x86_64.manylinux2014_x86_64.whl (1.9 MB)\n",
            "\u001b[K     |████████████████████████████████| 1.9 MB 52.2 MB/s \n",
            "\u001b[?25hCollecting pbr!=2.1.0,>=2.0.0\n",
            "  Downloading pbr-5.11.0-py2.py3-none-any.whl (112 kB)\n",
            "\u001b[K     |████████████████████████████████| 112 kB 58.2 MB/s \n",
            "\u001b[?25hRequirement already satisfied: mpmath>=0.19 in /usr/local/lib/python3.7/dist-packages (from sympy>=1.3->qiskit-terra==0.22.0->qiskit) (1.2.1)\n",
            "Building wheels for collected packages: qiskit\n",
            "  Building wheel for qiskit (setup.py) ... \u001b[?25l\u001b[?25hdone\n",
            "  Created wheel for qiskit: filename=qiskit-0.39.0-py3-none-any.whl size=12188 sha256=323fbc8284038614fe43446d71fa87a0cc7f998e3041b16ab515a74e60b5e1ad\n",
            "  Stored in directory: /root/.cache/pip/wheels/63/d0/9a/257143dfc211b1732e1dadf41f281d477251d9cc0108a6f209\n",
            "Successfully built qiskit\n",
            "Installing collected packages: rustworkx, pbr, tweedledum, symengine, stevedore, shared-memory38, retworkx, ply, ntlm-auth, cryptography, websockets, websocket-client, requests-ntlm, qiskit-terra, qiskit-ibmq-provider, qiskit-aer, qiskit\n",
            "Successfully installed cryptography-38.0.1 ntlm-auth-1.5.0 pbr-5.11.0 ply-3.11 qiskit-0.39.0 qiskit-aer-0.11.0 qiskit-ibmq-provider-0.19.2 qiskit-terra-0.22.0 requests-ntlm-1.1.0 retworkx-0.12.0 rustworkx-0.12.0 shared-memory38-0.1.2 stevedore-3.5.2 symengine-0.9.2 tweedledum-1.1.1 websocket-client-1.4.1 websockets-10.3\n"
          ]
        }
      ]
    },
    {
      "cell_type": "code",
      "execution_count": 2,
      "id": "5267da7c",
      "metadata": {
        "scrolled": true,
        "id": "5267da7c"
      },
      "outputs": [],
      "source": [
        "from qiskit import QuantumCircuit, Aer, transpile, assemble\n",
        "from qiskit.visualization import plot_histogram, plot_bloch_multivector\n",
        "from numpy.random import randint\n",
        "import numpy as np"
      ]
    },
    {
      "cell_type": "code",
      "source": [
        "qc=QuantumCircuit(1,1)\n",
        "qc.h(0)\n",
        "a=qc\n",
        "qc.measure(0,0)\n",
        "aer_sim = Aer.get_backend('aer_simulator')\n",
        "qobj = assemble(qc, shots=1, memory=True)\n",
        "result = aer_sim.run(qobj).result()\n",
        "measured_bit = int(result.get_memory()[0])\n",
        "measured_bit\n",
        "print(a,qc)"
      ],
      "metadata": {
        "colab": {
          "base_uri": "https://localhost:8080/"
        },
        "id": "AdLkBoT8PtwC",
        "outputId": "03eb29a3-7c65-4b74-c239-f95edb8f5c06"
      },
      "id": "AdLkBoT8PtwC",
      "execution_count": 37,
      "outputs": [
        {
          "output_type": "stream",
          "name": "stdout",
          "text": [
            "   ┌───┐┌─┐\n",
            "q: ┤ H ├┤M├\n",
            "   └───┘└╥┘\n",
            "c: ══════╩═\n",
            "               ┌───┐┌─┐\n",
            "q: ┤ H ├┤M├\n",
            "   └───┘└╥┘\n",
            "c: ══════╩═\n",
            "           \n"
          ]
        }
      ]
    },
    {
      "cell_type": "code",
      "execution_count": 8,
      "id": "998835e8",
      "metadata": {
        "scrolled": true,
        "id": "998835e8"
      },
      "outputs": [],
      "source": [
        "def encode_message(bits, bases):\n",
        "    message = []\n",
        "    for i in range(n):\n",
        "        qc = QuantumCircuit(1,1)\n",
        "        if bases[i] == 0: # Prepare qubit in Z-basis\n",
        "            if bits[i] == 0:\n",
        "                pass \n",
        "            else:\n",
        "                qc.x(0)\n",
        "        else: # Prepare qubit in X-basis\n",
        "            if bits[i] == 0:\n",
        "                qc.h(0)\n",
        "            else:\n",
        "                qc.x(0)\n",
        "                qc.h(0)\n",
        "        qc.barrier()\n",
        "        message.append(qc)\n",
        "        \n",
        "    return message"
      ]
    },
    {
      "cell_type": "code",
      "execution_count": 4,
      "id": "b42bac3e",
      "metadata": {
        "scrolled": true,
        "id": "b42bac3e"
      },
      "outputs": [],
      "source": [
        "def measure_message(message, bases):\n",
        "    backend = Aer.get_backend('aer_simulator')\n",
        "    measurements = []\n",
        "    for q in range(n):\n",
        "        if bases[q] == 0: # measuring in Z-basis\n",
        "            message[q].measure(0,0)\n",
        "        if bases[q] == 1: # measuring in X-basis\n",
        "            message[q].h(0)\n",
        "            message[q].measure(0,0)\n",
        "        aer_sim = Aer.get_backend('aer_simulator')\n",
        "        qobj = assemble(message[q], shots=1, memory=True)\n",
        "        result = aer_sim.run(qobj).result()\n",
        "        measured_bit = int(result.get_memory()[0])\n",
        "        measurements.append(measured_bit)\n",
        "    return measurements"
      ]
    },
    {
      "cell_type": "code",
      "execution_count": 5,
      "id": "e2ada713",
      "metadata": {
        "scrolled": true,
        "id": "e2ada713"
      },
      "outputs": [],
      "source": [
        "def remove_garbage(a_bases, b_bases, bits):\n",
        "    good_bits = []\n",
        "    for q in range(n):\n",
        "        if a_bases[q] == b_bases[q]:\n",
        "            # If both used the same basis, add\n",
        "            # this to the list of 'good' bits\n",
        "            good_bits.append(bits[q])\n",
        "    return good_bits"
      ]
    },
    {
      "cell_type": "code",
      "execution_count": 6,
      "id": "121a096d",
      "metadata": {
        "scrolled": true,
        "id": "121a096d"
      },
      "outputs": [],
      "source": [
        "def sample_bits(bits, selection):\n",
        "    sample = []\n",
        "    for i in selection:\n",
        "        # use np.mod to make sure the\n",
        "        # bit we sample is always in \n",
        "        # the list range\n",
        "        i = np.mod(i, len(bits))\n",
        "        # pop(i) removes the element of the\n",
        "        # list at index 'i'\n",
        "        sample.append(bits.pop(i))\n",
        "    return sample"
      ]
    },
    {
      "cell_type": "code",
      "execution_count": 9,
      "id": "9106b57e",
      "metadata": {
        "scrolled": true,
        "colab": {
          "base_uri": "https://localhost:8080/"
        },
        "id": "9106b57e",
        "outputId": "49018c17-9ac4-4976-ea9b-25a0ab8108bd"
      },
      "outputs": [
        {
          "output_type": "stream",
          "name": "stdout",
          "text": [
            "  bob_sample = [0, 1, 1, 1, 1, 0, 1, 0, 1, 0, 1, 1, 0, 1, 1]\n",
            "alice_sample = [0, 1, 1, 1, 1, 0, 1, 0, 1, 0, 1, 1, 0, 1, 1]\n",
            "-----------\n",
            "  bob_key = [0, 1, 1, 0, 0, 0, 1, 0, 0, 1, 1, 0, 0, 1, 0, 1, 1, 0, 0, 0, 1, 0, 0, 1, 1, 0, 0, 1, 0, 0, 1, 1]\n",
            "alice_key = [0, 1, 1, 0, 0, 0, 1, 0, 0, 1, 1, 0, 0, 1, 0, 1, 1, 0, 0, 0, 1, 0, 0, 1, 1, 0, 0, 1, 0, 0, 1, 1]\n"
          ]
        }
      ],
      "source": [
        "np.random.seed(seed=3)  # We use a known seed for RNG to make the results reproducible.\n",
        "n = 100\n",
        "\n",
        "## Step 1: Alice generates random bits.\n",
        "alice_bits = randint(2, size=n)\n",
        "## Step 2: Alice chooses a series of random bases: one for each bit.\n",
        "alice_bases = randint(2, size=n)\n",
        "\n",
        "## Step 3: Alice then sends a quantum message with her bits encoded in her random bases.\n",
        "message = encode_message(alice_bits, alice_bases)\n",
        "\n",
        "## Step 4: Bob chooses random bases of his own.\n",
        "bob_bases = randint(2, size=n)\n",
        "## Step 5: Bob then measures Alice's message in his own bases.\n",
        "bob_results = measure_message(message, bob_bases)\n",
        "\n",
        "## Step 6: Alice and Bob make their bases public, compare them, and only keep\n",
        "#          the measurements where they used the same bases.\n",
        "bob_key = remove_garbage(alice_bases, bob_bases, bob_results)\n",
        "alice_key = remove_garbage(alice_bases, bob_bases, alice_bits)\n",
        "\n",
        "\n",
        "## Step 5\n",
        "sample_size = 15\n",
        "bit_selection = randint(n, size=sample_size)\n",
        "bob_sample = sample_bits(bob_key, bit_selection)\n",
        "print(\"  bob_sample = \" + str(bob_sample))\n",
        "alice_sample = sample_bits(alice_key, bit_selection)\n",
        "print(\"alice_sample = \"+ str(alice_sample))\n",
        "print(\"-----------\")\n",
        "print(\"  bob_key = \" + str(bob_key))\n",
        "print(\"alice_key = \"+ str(alice_key))\n",
        "\n"
      ]
    },
    {
      "cell_type": "markdown",
      "id": "4f627b24",
      "metadata": {
        "id": "4f627b24"
      },
      "source": [
        "___________________________________________________________________________________"
      ]
    },
    {
      "cell_type": "markdown",
      "id": "c0f43ccc",
      "metadata": {
        "id": "c0f43ccc"
      },
      "source": [
        "# YOUR SOLUTIONS"
      ]
    },
    {
      "cell_type": "markdown",
      "id": "844b4761",
      "metadata": {
        "id": "844b4761"
      },
      "source": [
        "### 1. PNS attack on BB84"
      ]
    },
    {
      "cell_type": "markdown",
      "id": "27a5d142",
      "metadata": {
        "id": "27a5d142"
      },
      "source": [
        "In practice, Alice will not send single photons/qubits every single time. She will likely send multiple each time. This is because it's hard to reliably generate single photons.\n",
        "\n",
        "In this task, Alice will always send exactly 2 photons/qubits each time.\n",
        "How can Eve take advantage of this to retrieve Alice and Bob's secrete key without them knowing? Simulate this scenario using Qiskit."
      ]
    },
    {
      "cell_type": "code",
      "execution_count": null,
      "id": "a23af10a",
      "metadata": {
        "scrolled": true,
        "id": "a23af10a"
      },
      "outputs": [],
      "source": [
        "def encode_message(bits, bases):\n",
        "    message = []\n",
        "    for i in range(n):\n",
        "        qc = QuantumCircuit(1,1)\n",
        "        if bases[i] == 0: # Prepare qubit in Z-basis\n",
        "            if bits[i] == 0:\n",
        "                pass \n",
        "            else:\n",
        "                qc.x(0)\n",
        "        else: # Prepare qubit in X-basis\n",
        "            if bits[i] == 0:\n",
        "                qc.h(0)\n",
        "            else:\n",
        "                qc.x(0)\n",
        "                qc.h(0)\n",
        "        qc.barrier()\n",
        "        message.append(qc)\n",
        "        \n",
        "    return message"
      ]
    },
    {
      "cell_type": "code",
      "execution_count": 57,
      "id": "e25a4976",
      "metadata": {
        "scrolled": true,
        "id": "e25a4976"
      },
      "outputs": [],
      "source": [
        "def measure_message(message, bases):\n",
        "    backend = Aer.get_backend('aer_simulator')\n",
        "    measurements = []\n",
        "    q=0\n",
        "    while q<50 :\n",
        "        if bases[q] == 0: # measuring in Z-basis\n",
        "            message[2*q].measure(0,0)\n",
        "        if bases[2*q] == 1: # measuring in X-basis\n",
        "            message[2*q].h(0)\n",
        "            message[2*q].measure(0,0)\n",
        "        aer_sim = Aer.get_backend('aer_simulator')\n",
        "        qobj = assemble(message[q], shots=1, memory=True)\n",
        "        result = aer_sim.run(qobj).result()\n",
        "        measured_bit = int(result.get_memory()[0])\n",
        "        measurements.append(measured_bit)\n",
        "        q=q+1\n",
        "    return measurements"
      ]
    },
    {
      "cell_type": "code",
      "source": [
        "def remove_garbage(a_bases, b_bases, bits):\n",
        "    good_bits = []\n",
        "    for q in range(n):\n",
        "        if a_bases[q] == b_bases[q]:\n",
        "            # If both used the same basis, add\n",
        "            # this to the list of 'good' bits\n",
        "            good_bits.append(bits[q])\n",
        "    return good_bits"
      ],
      "metadata": {
        "id": "RE3mMHOcVF8e"
      },
      "id": "RE3mMHOcVF8e",
      "execution_count": null,
      "outputs": []
    },
    {
      "cell_type": "code",
      "source": [
        "def sample_bits(bits, selection):\n",
        "    sample = []\n",
        "    for i in selection:\n",
        "        # use np.mod to make sure the\n",
        "        # bit we sample is always in \n",
        "        # the list range\n",
        "        i = np.mod(i, len(bits))\n",
        "        # pop(i) removes the element of the\n",
        "        # list at index 'i'\n",
        "        sample.append(bits.pop(i))\n",
        "    return sample"
      ],
      "metadata": {
        "id": "Paxbws06VJmu"
      },
      "id": "Paxbws06VJmu",
      "execution_count": null,
      "outputs": []
    },
    {
      "cell_type": "code",
      "execution_count": 58,
      "id": "6f610707",
      "metadata": {
        "scrolled": true,
        "colab": {
          "base_uri": "https://localhost:8080/",
          "height": 450
        },
        "id": "6f610707",
        "outputId": "4ec7c885-b4d8-41c0-9bb6-7e831df26c6c"
      },
      "outputs": [
        {
          "output_type": "error",
          "ename": "QiskitError",
          "evalue": "ignored",
          "traceback": [
            "\u001b[0;31m---------------------------------------------------------------------------\u001b[0m",
            "\u001b[0;31mKeyError\u001b[0m                                  Traceback (most recent call last)",
            "\u001b[0;32m/usr/local/lib/python3.7/dist-packages/qiskit/result/result.py\u001b[0m in \u001b[0;36mget_memory\u001b[0;34m(self, experiment)\u001b[0m\n\u001b[1;32m    225\u001b[0m \u001b[0;34m\u001b[0m\u001b[0m\n\u001b[0;32m--> 226\u001b[0;31m             \u001b[0mmemory\u001b[0m \u001b[0;34m=\u001b[0m \u001b[0mself\u001b[0m\u001b[0;34m.\u001b[0m\u001b[0mdata\u001b[0m\u001b[0;34m(\u001b[0m\u001b[0mexperiment\u001b[0m\u001b[0;34m)\u001b[0m\u001b[0;34m[\u001b[0m\u001b[0;34m\"memory\"\u001b[0m\u001b[0;34m]\u001b[0m\u001b[0;34m\u001b[0m\u001b[0;34m\u001b[0m\u001b[0m\n\u001b[0m\u001b[1;32m    227\u001b[0m \u001b[0;34m\u001b[0m\u001b[0m\n",
            "\u001b[0;31mKeyError\u001b[0m: 'memory'",
            "\nThe above exception was the direct cause of the following exception:\n",
            "\u001b[0;31mQiskitError\u001b[0m                               Traceback (most recent call last)",
            "\u001b[0;32m<ipython-input-58-bd7f44827cc3>\u001b[0m in \u001b[0;36m<module>\u001b[0;34m\u001b[0m\n\u001b[1;32m     30\u001b[0m \u001b[0;31m## Interception\u001b[0m\u001b[0;34m\u001b[0m\u001b[0;34m\u001b[0m\u001b[0;34m\u001b[0m\u001b[0m\n\u001b[1;32m     31\u001b[0m \u001b[0meve_bases\u001b[0m \u001b[0;34m=\u001b[0m \u001b[0mrandint\u001b[0m\u001b[0;34m(\u001b[0m\u001b[0;36m2\u001b[0m\u001b[0;34m,\u001b[0m \u001b[0msize\u001b[0m\u001b[0;34m=\u001b[0m\u001b[0mn\u001b[0m\u001b[0;34m)\u001b[0m\u001b[0;34m\u001b[0m\u001b[0;34m\u001b[0m\u001b[0m\n\u001b[0;32m---> 32\u001b[0;31m \u001b[0meve_results\u001b[0m \u001b[0;34m=\u001b[0m \u001b[0mmeasure_message\u001b[0m\u001b[0;34m(\u001b[0m\u001b[0mmessage\u001b[0m\u001b[0;34m,\u001b[0m \u001b[0meve_bases\u001b[0m\u001b[0;34m)\u001b[0m\u001b[0;34m\u001b[0m\u001b[0;34m\u001b[0m\u001b[0m\n\u001b[0m\u001b[1;32m     33\u001b[0m \u001b[0;34m\u001b[0m\u001b[0m\n\u001b[1;32m     34\u001b[0m \u001b[0;31m## Step 4: Bob chooses random bases of his own.\u001b[0m\u001b[0;34m\u001b[0m\u001b[0;34m\u001b[0m\u001b[0;34m\u001b[0m\u001b[0m\n",
            "\u001b[0;32m<ipython-input-57-ff5191d7bef7>\u001b[0m in \u001b[0;36mmeasure_message\u001b[0;34m(message, bases)\u001b[0m\n\u001b[1;32m     12\u001b[0m         \u001b[0mqobj\u001b[0m \u001b[0;34m=\u001b[0m \u001b[0massemble\u001b[0m\u001b[0;34m(\u001b[0m\u001b[0mmessage\u001b[0m\u001b[0;34m[\u001b[0m\u001b[0mq\u001b[0m\u001b[0;34m]\u001b[0m\u001b[0;34m,\u001b[0m \u001b[0mshots\u001b[0m\u001b[0;34m=\u001b[0m\u001b[0;36m1\u001b[0m\u001b[0;34m,\u001b[0m \u001b[0mmemory\u001b[0m\u001b[0;34m=\u001b[0m\u001b[0;32mTrue\u001b[0m\u001b[0;34m)\u001b[0m\u001b[0;34m\u001b[0m\u001b[0;34m\u001b[0m\u001b[0m\n\u001b[1;32m     13\u001b[0m         \u001b[0mresult\u001b[0m \u001b[0;34m=\u001b[0m \u001b[0maer_sim\u001b[0m\u001b[0;34m.\u001b[0m\u001b[0mrun\u001b[0m\u001b[0;34m(\u001b[0m\u001b[0mqobj\u001b[0m\u001b[0;34m)\u001b[0m\u001b[0;34m.\u001b[0m\u001b[0mresult\u001b[0m\u001b[0;34m(\u001b[0m\u001b[0;34m)\u001b[0m\u001b[0;34m\u001b[0m\u001b[0;34m\u001b[0m\u001b[0m\n\u001b[0;32m---> 14\u001b[0;31m         \u001b[0mmeasured_bit\u001b[0m \u001b[0;34m=\u001b[0m \u001b[0mint\u001b[0m\u001b[0;34m(\u001b[0m\u001b[0mresult\u001b[0m\u001b[0;34m.\u001b[0m\u001b[0mget_memory\u001b[0m\u001b[0;34m(\u001b[0m\u001b[0;34m)\u001b[0m\u001b[0;34m[\u001b[0m\u001b[0;36m0\u001b[0m\u001b[0;34m]\u001b[0m\u001b[0;34m)\u001b[0m\u001b[0;34m\u001b[0m\u001b[0;34m\u001b[0m\u001b[0m\n\u001b[0m\u001b[1;32m     15\u001b[0m         \u001b[0mmeasurements\u001b[0m\u001b[0;34m.\u001b[0m\u001b[0mappend\u001b[0m\u001b[0;34m(\u001b[0m\u001b[0mmeasured_bit\u001b[0m\u001b[0;34m)\u001b[0m\u001b[0;34m\u001b[0m\u001b[0;34m\u001b[0m\u001b[0m\n\u001b[1;32m     16\u001b[0m         \u001b[0mq\u001b[0m\u001b[0;34m=\u001b[0m\u001b[0mq\u001b[0m\u001b[0;34m+\u001b[0m\u001b[0;36m1\u001b[0m\u001b[0;34m\u001b[0m\u001b[0;34m\u001b[0m\u001b[0m\n",
            "\u001b[0;32m/usr/local/lib/python3.7/dist-packages/qiskit/result/result.py\u001b[0m in \u001b[0;36mget_memory\u001b[0;34m(self, experiment)\u001b[0m\n\u001b[1;32m    241\u001b[0m                 \u001b[0;34m'with the memory flag set, eg., \"memory=True\", '\u001b[0m\u001b[0;34m\u001b[0m\u001b[0;34m\u001b[0m\u001b[0m\n\u001b[1;32m    242\u001b[0m                 \u001b[0;34m\"or a measurement level 0/1 job.\"\u001b[0m\u001b[0;34m.\u001b[0m\u001b[0mformat\u001b[0m\u001b[0;34m(\u001b[0m\u001b[0mrepr\u001b[0m\u001b[0;34m(\u001b[0m\u001b[0mexperiment\u001b[0m\u001b[0;34m)\u001b[0m\u001b[0;34m)\u001b[0m\u001b[0;34m\u001b[0m\u001b[0;34m\u001b[0m\u001b[0m\n\u001b[0;32m--> 243\u001b[0;31m             ) from ex\n\u001b[0m\u001b[1;32m    244\u001b[0m \u001b[0;34m\u001b[0m\u001b[0m\n\u001b[1;32m    245\u001b[0m     \u001b[0;32mdef\u001b[0m \u001b[0mget_counts\u001b[0m\u001b[0;34m(\u001b[0m\u001b[0mself\u001b[0m\u001b[0;34m,\u001b[0m \u001b[0mexperiment\u001b[0m\u001b[0;34m=\u001b[0m\u001b[0;32mNone\u001b[0m\u001b[0;34m)\u001b[0m\u001b[0;34m:\u001b[0m\u001b[0;34m\u001b[0m\u001b[0;34m\u001b[0m\u001b[0m\n",
            "\u001b[0;31mQiskitError\u001b[0m: 'No memory for experiment \"None\". Please verify that you either ran a measurement level 2 job with the memory flag set, eg., \"memory=True\", or a measurement level 0/1 job.'"
          ]
        }
      ],
      "source": [
        "np.random.seed(seed=3)\n",
        "n = 100  # Using 100 quantum states\n",
        "#####   DO NOT CHANGE THE CODE ABOVE THIS LINE!   #####\n",
        "\n",
        "## Step 1: Alice generates random bits.\n",
        "pre_alice_bits = randint(2, size=50)\n",
        "\n",
        "## Step 2: Alice chooses a series of random bases: one for each bit.\n",
        "pre_alice_bases = randint(2, size=50)\n",
        "alice_bits = []\n",
        "alice_bases = []\n",
        "a=0\n",
        "b=0\n",
        "while(a<50):\n",
        "\n",
        "  \n",
        "  alice_bits.append(pre_alice_bits[a]);\n",
        "  \n",
        "  alice_bits.append(pre_alice_bits[a])\n",
        "\n",
        "  alice_bases.append(pre_alice_bases[a])\n",
        "  alice_bases.append(pre_alice_bases[a])\n",
        "  a=a+1\n",
        "  b=b+2\n",
        "\n",
        "\n",
        "## Step 3: Alice then sends a quantum message with her bits encoded in her random bases.\n",
        "message = encode_message(alice_bits, alice_bases)\n",
        "\n",
        "## Interception\n",
        "eve_bases = randint(2, size=n)\n",
        "eve_results = measure_message(message, eve_bases)\n",
        "\n",
        "## Step 4: Bob chooses random bases of his own.\n",
        "bob_bases = randint(2, size=n)\n",
        "## Step 5: Bob then measures Alice's message in his own bases.\n",
        "bob_results = measure_message(message, bob_bases)\n",
        "\n",
        "## Step 6: Alice and Bob make their bases public, compare them, and only keep\n",
        "#          the measurements where they used the same bases.\n",
        "bob_key = remove_garbage(alice_bases, bob_bases, bob_results)\n",
        "alice_key = remove_garbage(alice_bases, bob_bases, alice_bits)\n",
        "\n",
        "\n",
        "#####   DO NOT CHANGE THE CODE BELLOW THIS LINE!   #####\n",
        "\n",
        "# RESULTS -------------------------------------\n",
        "print(\"  bob_sample = \" + str(bob_sample))\n",
        "print(\"alice_sample = \"+ str(alice_sample))\n",
        "print(\"  eve_sample = \"+ str(eve_sample))\n",
        "print(\"-----------\")\n",
        "print(\"  bob_key = \" + str(bob_key))\n",
        "print(\"alice_key = \"+ str(alice_key))\n",
        "print(\"  eve_key = \" + str(eve_key))\n"
      ]
    },
    {
      "cell_type": "markdown",
      "id": "191a46f6",
      "metadata": {
        "id": "191a46f6"
      },
      "source": [
        "#### Explain your solution (Optional)"
      ]
    },
    {
      "cell_type": "markdown",
      "id": "b57705ce",
      "metadata": {
        "id": "b57705ce"
      },
      "source": [
        "If you did not have time to implement your code, or simply want to add further explanations, you can describe your solution in the cell bellow.<br>\n",
        "(in both cases you are still expected to submit code!)"
      ]
    },
    {
      "cell_type": "markdown",
      "id": "16c6e2e8",
      "metadata": {
        "id": "16c6e2e8"
      },
      "source": [
        "Solution:\n",
        "For every bit we send 2 states, meaning if the message was:\n",
        "[1,0,1,0,1,1]\n",
        "the states will be\n",
        "[1,1,0,0,1,1,0,0,1,1,1,1] (with the state notation)\n",
        "so every bit is doubled meaning that a message of 50 bits will be sent in the form of 100 states, so when Bob recieves the message, he will only read the pair index states (meaning every other states, in other ones: one by one) for example Bob will read the states indexed 0,2,4,6...\n",
        "when Eve intervenes she will measure the states indexed with impair numbers for example 1,3,5,7.... and since every bit is doubled in state, when Bob measures the states he will not notice any difference since he is measuring the impair states while Eve measured the pair ones"
      ]
    },
    {
      "cell_type": "markdown",
      "id": "1e0598a6",
      "metadata": {
        "id": "1e0598a6"
      },
      "source": [
        "______________________________"
      ]
    },
    {
      "cell_type": "markdown",
      "id": "8e0c6edf",
      "metadata": {
        "id": "8e0c6edf"
      },
      "source": [
        "### 2. Implementing BBM92 using Qiskit"
      ]
    },
    {
      "cell_type": "markdown",
      "id": "36abcca7",
      "metadata": {
        "id": "36abcca7"
      },
      "source": [
        "Using the functions defined above, and creating new ones, implement the BBM92 protocol.\n",
        "\n",
        "**Reminder:** In the BBM92 protocol, a pair of entangled photons/qubits is generated. Alice receives one, and Bob receives the other."
      ]
    },
    {
      "cell_type": "code",
      "execution_count": null,
      "id": "f2056ff1",
      "metadata": {
        "scrolled": true,
        "id": "f2056ff1"
      },
      "outputs": [],
      "source": [
        "# Your function(s) here ...   \n"
      ]
    },
    {
      "cell_type": "code",
      "execution_count": null,
      "id": "6808f829",
      "metadata": {
        "scrolled": true,
        "id": "6808f829"
      },
      "outputs": [],
      "source": [
        "# Your function(s) here ...   \n"
      ]
    },
    {
      "cell_type": "code",
      "execution_count": null,
      "id": "e53032c1",
      "metadata": {
        "scrolled": true,
        "id": "e53032c1"
      },
      "outputs": [],
      "source": [
        "np.random.seed(seed=3)\n",
        "n = 100  # Using 100 quantum states\n",
        "#####   DO NOT CHANGE THE CODE ABOVE THIS LINE!   #####\n",
        "\n",
        "# ...\n",
        "# ...    Your solution here    ...\n",
        "# ...\n",
        "\n",
        "#####   DO NOT CHANGE THE CODE BELLOW THIS LINE!   #####\n",
        "\n",
        "# RESULTS -------------------------------------\n",
        "print(\"  bob_sample = \" + str(bob_sample))\n",
        "print(\"alice_sample = \"+ str(alice_sample))\n",
        "print(\"-----------\")\n",
        "print(\"  bob_key = \" + str(bob_key))\n",
        "print(\"alice_key = \"+ str(alice_key))\n"
      ]
    },
    {
      "cell_type": "markdown",
      "id": "f9393cf5",
      "metadata": {
        "id": "f9393cf5"
      },
      "source": [
        "#### Explain your solution (Optional)"
      ]
    },
    {
      "cell_type": "markdown",
      "id": "933e0e5c",
      "metadata": {
        "id": "933e0e5c"
      },
      "source": [
        "If you did not have time to implement your code, or simply want to add further explanations, you can describe your solution in the cell bellow.<br>\n",
        "(in both cases you are still expected to submit code!)"
      ]
    },
    {
      "cell_type": "markdown",
      "id": "cee47bef",
      "metadata": {
        "id": "cee47bef"
      },
      "source": [
        "*\\[REPLACE THIS WITH YOUR ANSWER\\]*\n",
        "\n",
        "*(double click here to modify)*"
      ]
    },
    {
      "cell_type": "markdown",
      "id": "a49c7993",
      "metadata": {
        "id": "a49c7993"
      },
      "source": [
        "________________________________________________________"
      ]
    },
    {
      "cell_type": "markdown",
      "id": "06a641a1",
      "metadata": {
        "id": "06a641a1"
      },
      "source": [
        "### 3. BBM92 with interception of the duplicate photons"
      ]
    },
    {
      "cell_type": "markdown",
      "id": "43fef18b",
      "metadata": {
        "id": "43fef18b"
      },
      "source": [
        "For the same reasons as in the 1st task (with BB84), 2 pairs of photons/qubits will be generated each time instead of 1.<br>\n",
        "In this scenario, Alice and Bob will receive their respective photons as in the 2nd task, and Eve will receive one of the photons from the second pair.\n",
        "\n",
        "Show that, unlike in the BB84 case, Eve does not get any information from the additional photons after Alice and Bob make their bases public."
      ]
    },
    {
      "cell_type": "markdown",
      "id": "ab295d56",
      "metadata": {
        "id": "ab295d56"
      },
      "source": [
        " "
      ]
    },
    {
      "cell_type": "code",
      "execution_count": null,
      "id": "99bef095",
      "metadata": {
        "scrolled": true,
        "id": "99bef095"
      },
      "outputs": [],
      "source": [
        "# Your function(s) here ...   \n"
      ]
    },
    {
      "cell_type": "code",
      "execution_count": null,
      "id": "e5da8d2a",
      "metadata": {
        "scrolled": true,
        "id": "e5da8d2a"
      },
      "outputs": [],
      "source": [
        "# Your function(s) here ...   \n"
      ]
    },
    {
      "cell_type": "code",
      "execution_count": null,
      "id": "8e882caa",
      "metadata": {
        "scrolled": false,
        "id": "8e882caa"
      },
      "outputs": [],
      "source": [
        "np.random.seed(seed=3)\n",
        "n = 100  # Using 100 quantum states\n",
        "#####   DO NOT CHANGE THE CODE ABOVE THIS LINE!   #####\n",
        "\n",
        "# ...\n",
        "# ...    Your solution here    ...\n",
        "# ...\n",
        "\n",
        "#####   DO NOT CHANGE THE CODE BELLOW THIS LINE!   #####\n",
        "\n",
        "# RESULTS -------------------------------------\n",
        "print(\"  bob_sample = \" + str(bob_sample))\n",
        "print(\"alice_sample = \"+ str(alice_sample))\n",
        "print(\"  eve_sample = \"+ str(eve_sample))\n",
        "print(\"-----------\")\n",
        "print(\"  bob_key = \" + str(bob_key))\n",
        "print(\"alice_key = \"+ str(alice_key))\n",
        "print(\"  eve_key = \" + str(eve_key))  # Shoud be different than Alice and Bob's\n"
      ]
    },
    {
      "cell_type": "markdown",
      "id": "d9263cf6",
      "metadata": {
        "id": "d9263cf6"
      },
      "source": [
        "#### Explain your solution (Optional)"
      ]
    },
    {
      "cell_type": "markdown",
      "id": "541470d3",
      "metadata": {
        "id": "541470d3"
      },
      "source": [
        "If you did not have time to implement your code, or simply want to add further explanations, you can describe your solution in the cell bellow.<br>\n",
        "(in both cases you are still expected to submit code!)"
      ]
    },
    {
      "cell_type": "markdown",
      "id": "a047daf0",
      "metadata": {
        "id": "a047daf0"
      },
      "source": [
        "*\\[REPLACE THIS WITH YOUR ANSWER\\]*\n",
        "\n",
        "*(double click here to modify)*"
      ]
    },
    {
      "cell_type": "markdown",
      "id": "c22fa483",
      "metadata": {
        "id": "c22fa483"
      },
      "source": [
        "________________________________________________________"
      ]
    },
    {
      "cell_type": "markdown",
      "id": "e2a787e0",
      "metadata": {
        "id": "e2a787e0"
      },
      "source": [
        " "
      ]
    }
  ],
  "metadata": {
    "kernelspec": {
      "display_name": "Python 3 (ipykernel)",
      "language": "python",
      "name": "python3"
    },
    "language_info": {
      "codemirror_mode": {
        "name": "ipython",
        "version": 3
      },
      "file_extension": ".py",
      "mimetype": "text/x-python",
      "name": "python",
      "nbconvert_exporter": "python",
      "pygments_lexer": "ipython3",
      "version": "3.8.13"
    },
    "colab": {
      "provenance": []
    }
  },
  "nbformat": 4,
  "nbformat_minor": 5
}